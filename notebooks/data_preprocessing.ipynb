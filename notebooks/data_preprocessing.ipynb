{
 "cells": [
  {
   "cell_type": "code",
   "execution_count": 1,
   "metadata": {},
   "outputs": [],
   "source": [
    "import pandas as pd\n",
    "from tqdm.notebook import tqdm\n",
    "import sqlite3"
   ]
  },
  {
   "cell_type": "code",
   "execution_count": 2,
   "metadata": {},
   "outputs": [],
   "source": [
    "pd.set_option('display.max_columns', 50)"
   ]
  },
  {
   "cell_type": "code",
   "execution_count": 3,
   "metadata": {},
   "outputs": [
    {
     "data": {
      "application/vnd.jupyter.widget-view+json": {
       "model_id": "625c292ce1a0426a813ba67aa2d74b80",
       "version_major": 2,
       "version_minor": 0
      },
      "text/plain": [
       "0it [00:00, ?it/s]"
      ]
     },
     "metadata": {},
     "output_type": "display_data"
    }
   ],
   "source": [
    "nppes_cols = ['NPI', \n",
    "              'Entity Type Code', \n",
    "              'Provider Organization Name (Legal Business Name)',\n",
    "              'Provider Name Prefix Text',\n",
    "              'Provider First Name',\n",
    "              'Provider Middle Name',\n",
    "              'Provider Last Name (Legal Name)', \n",
    "              'Provider Name Suffix Text',\n",
    "              'Provider Credential Text',\n",
    "              'Provider First Line Business Practice Location Address',\n",
    "              'Provider Second Line Business Practice Location Address',\n",
    "              'Provider Business Practice Location Address City Name',\n",
    "              'Provider Business Practice Location Address State Name',\n",
    "              'Provider Business Practice Location Address Postal Code',\n",
    "              'Healthcare Provider Taxonomy Code_1',\n",
    "              'Healthcare Provider Primary Taxonomy Switch_1',\n",
    "              'Healthcare Provider Taxonomy Code_2',\n",
    "              'Healthcare Provider Primary Taxonomy Switch_2',\n",
    "              'Healthcare Provider Taxonomy Code_3',\n",
    "              'Healthcare Provider Primary Taxonomy Switch_3',\n",
    "              'Healthcare Provider Taxonomy Code_4',\n",
    "              'Healthcare Provider Primary Taxonomy Switch_4',\n",
    "              'Healthcare Provider Taxonomy Code_5',\n",
    "              'Healthcare Provider Primary Taxonomy Switch_5',\n",
    "              'Healthcare Provider Taxonomy Code_6',\n",
    "              'Healthcare Provider Primary Taxonomy Switch_6',\n",
    "              'Healthcare Provider Taxonomy Code_7',\n",
    "              'Healthcare Provider Primary Taxonomy Switch_7',\n",
    "              'Healthcare Provider Taxonomy Code_8',\n",
    "              'Healthcare Provider Primary Taxonomy Switch_8',\n",
    "              'Healthcare Provider Taxonomy Code_9',\n",
    "              'Healthcare Provider Primary Taxonomy Switch_9',\n",
    "              'Healthcare Provider Taxonomy Code_10',\n",
    "              'Healthcare Provider Primary Taxonomy Switch_10',\n",
    "              'Healthcare Provider Taxonomy Code_11',\n",
    "              'Healthcare Provider Primary Taxonomy Switch_11',\n",
    "              'Healthcare Provider Taxonomy Code_12',\n",
    "              'Healthcare Provider Primary Taxonomy Switch_12',\n",
    "              'Healthcare Provider Taxonomy Code_13',\n",
    "              'Healthcare Provider Primary Taxonomy Switch_13',\n",
    "              'Healthcare Provider Taxonomy Code_14',\n",
    "              'Healthcare Provider Primary Taxonomy Switch_14',\n",
    "              'Healthcare Provider Taxonomy Code_15',\n",
    "              'Healthcare Provider Primary Taxonomy Switch_15']\n",
    "\n",
    "\n",
    "nppes = pd.read_csv('../data/NPPES_Data_Dissemination_February_2022/npidata_pfile_20050523-20220213.csv',\n",
    "                    usecols = nppes_cols, \n",
    "                    dtype = str, \n",
    "                    chunksize = 100000, \n",
    "                    low_memory = False)\n",
    "\n",
    "\n",
    "tn_providers = pd.DataFrame()\n",
    "\n",
    "\n",
    "for chunk in tqdm(nppes):\n",
    "    filtered_chunk = chunk[nppes_cols].query('`Provider Business Practice Location Address State Name` == \"TN\"')\n",
    "    tn_providers = tn_providers.append(filtered_chunk)\n",
    "\n",
    "\n",
    "tn_providers.columns = ['npi', \n",
    "                        'entity_type_code', \n",
    "                        'organization_name',\n",
    "                        'name_prefix', \n",
    "                        'first_name', \n",
    "                        'middle_name',\n",
    "                        'last_name',\n",
    "                        'name_suffix',\n",
    "                        'credentials', \n",
    "                        'address_first_line', \n",
    "                        'address_second_line', \n",
    "                        'city',\n",
    "                        'state', \n",
    "                        'zipcode',\n",
    "                        'taxonomy_code_1',\n",
    "                        'primary_taxonomy_switch_1',\n",
    "                        'taxonomy_code_2',\n",
    "                        'primary_taxonomy_switch_2',\n",
    "                         'taxonomy_code_3',\n",
    "                        'primary_taxonomy_switch_3',\n",
    "                         'taxonomy_code_4',\n",
    "                        'primary_taxonomy_switch_4',\n",
    "                         'taxonomy_code_5',\n",
    "                        'primary_taxonomy_switch_5',\n",
    "                         'taxonomy_code_6',\n",
    "                        'primary_taxonomy_switch_6',\n",
    "                         'taxonomy_code_7',\n",
    "                        'primary_taxonomy_switch_7',\n",
    "                         'taxonomy_code_8',\n",
    "                        'primary_taxonomy_switch_8',\n",
    "                         'taxonomy_code_9',\n",
    "                        'primary_taxonomy_switch_9',\n",
    "                         'taxonomy_code_10',\n",
    "                        'primary_taxonomy_switch_10',\n",
    "                         'taxonomy_code_11',\n",
    "                        'primary_taxonomy_switch_11',\n",
    "                         'taxonomy_code_12',\n",
    "                        'primary_taxonomy_switch_12',\n",
    "                         'taxonomy_code_13',\n",
    "                        'primary_taxonomy_switch_13',\n",
    "                         'taxonomy_code_14',\n",
    "                        'primary_taxonomy_switch_14',\n",
    "                         'taxonomy_code_15',\n",
    "                        'primary_taxonomy_switch_15']"
   ]
  },
  {
   "cell_type": "code",
   "execution_count": 4,
   "metadata": {},
   "outputs": [],
   "source": [
    "tn_providers['zipcode'] = tn_providers['zipcode'].astype(str).str[:5]\n",
    "\n",
    "\n",
    "cbsa = pd.read_excel('../data/ZIP_CBSA_122021.xlsx', dtype = {'zip': str, 'cbsa': str}) \\\n",
    "    .query('usps_zip_pref_state == \"TN\"') \\\n",
    "    .sort_values('tot_ratio', ascending = False) \\\n",
    "    .drop_duplicates(subset = 'zip') \\\n",
    "    [['zip', 'cbsa', 'usps_zip_pref_city', 'usps_zip_pref_state']]\n",
    "\n",
    "\n",
    "cbsa.columns = ['zipcode', 'cbsa', 'cbsa_city', 'cbsa_state']\n",
    "\n",
    "\n",
    "tn_providers = tn_providers.merge(cbsa, on = 'zipcode')"
   ]
  },
  {
   "cell_type": "code",
   "execution_count": 6,
   "metadata": {},
   "outputs": [],
   "source": [
    "id_cols = ['npi', \n",
    "           'entity_type_code', \n",
    "           'organization_name',\n",
    "           'name_prefix', \n",
    "           'first_name', \n",
    "           'middle_name',\n",
    "           'last_name',\n",
    "           'name_suffix',\n",
    "           'credentials', \n",
    "           'address_first_line', \n",
    "           'address_second_line', \n",
    "           'city',\n",
    "           'state', \n",
    "           'zipcode',\n",
    "           'cbsa', \n",
    "           'cbsa_city', \n",
    "           'cbsa_state']\n",
    "\n",
    "\n",
    "var_cols = ['taxonomy_code', \n",
    "            'primary_taxonomy_switch']\n",
    "\n",
    "\n",
    "tn_providers = pd.wide_to_long(tn_providers, stubnames = var_cols, i = id_cols, j = '', sep = '_') \\\n",
    "    .sort_values('npi') \\\n",
    "    .query('primary_taxonomy_switch == \"Y\"') \\\n",
    "    .reset_index() \\\n",
    "    .drop(['', 'primary_taxonomy_switch'], axis = 1)"
   ]
  },
  {
   "cell_type": "code",
   "execution_count": 7,
   "metadata": {},
   "outputs": [],
   "source": [
    "nucc = pd.read_csv('../data/nucc_taxonomy_220.csv').drop(['Definition', 'Notes'], axis = 1)\n",
    "\n",
    "\n",
    "nucc.columns = ['taxonomy_code',\n",
    "                'taxonomy_grouping',\n",
    "                'taxonomy_classification',\n",
    "                'taxonomy_specialization',\n",
    "                'taxonomy_display_name',\n",
    "                'taxonomy_section']\n",
    "\n",
    "\n",
    "tn_providers = tn_providers.merge(nucc, on = 'taxonomy_code')"
   ]
  },
  {
   "cell_type": "code",
   "execution_count": 11,
   "metadata": {},
   "outputs": [],
   "source": [
    "tn_providers.to_csv('../data/tn_providers.csv', index = False)"
   ]
  },
  {
   "cell_type": "code",
   "execution_count": 9,
   "metadata": {},
   "outputs": [
    {
     "data": {
      "application/vnd.jupyter.widget-view+json": {
       "model_id": "c3f25d096db644e58a33f8d621d18a4e",
       "version_major": 2,
       "version_minor": 0
      },
      "text/plain": [
       "0it [00:00, ?it/s]"
      ]
     },
     "metadata": {},
     "output_type": "display_data"
    }
   ],
   "source": [
    "hop_teaming = pd.read_csv('../data/DocGraph_Hop_Teaming_2018_Commercial/DocGraph_Hop_Teaming_2018.csv',\n",
    "                          dtype = {'from_npi': str, 'to_npi': str},\n",
    "                          chunksize = 1000000,\n",
    "                          low_memory = False)\n",
    "\n",
    "\n",
    "entity_type = dict(tn_providers[['npi', 'entity_type_code']].values)\n",
    "\n",
    "\n",
    "tn_hop_teaming = pd.DataFrame()\n",
    "\n",
    "\n",
    "for chunk in tqdm(hop_teaming):\n",
    "    filtered_chunk = chunk[(chunk['from_npi'].map(entity_type) == '1') & \n",
    "                           (chunk['to_npi'].map(entity_type) == '2') &\n",
    "                           (chunk['transaction_count'] >= 50) &\n",
    "                           (chunk['average_day_wait'] < 50)]\n",
    "    tn_hop_teaming = tn_hop_teaming.append(filtered_chunk)"
   ]
  },
  {
   "cell_type": "code",
   "execution_count": 12,
   "metadata": {},
   "outputs": [],
   "source": [
    "tn_hop_teaming.to_csv('../data/tn_hop_teaming.csv', index = False)"
   ]
  }
 ],
 "metadata": {
  "interpreter": {
   "hash": "3d6140ef0c675026b0200147df87972487ebc0097827c4c765c9e0dcd9cf7b2f"
  },
  "kernelspec": {
   "display_name": "Python 3.8.8 64-bit ('base': conda)",
   "language": "python",
   "name": "python3"
  },
  "language_info": {
   "codemirror_mode": {
    "name": "ipython",
    "version": 3
   },
   "file_extension": ".py",
   "mimetype": "text/x-python",
   "name": "python",
   "nbconvert_exporter": "python",
   "pygments_lexer": "ipython3",
   "version": "3.8.8"
  },
  "orig_nbformat": 4
 },
 "nbformat": 4,
 "nbformat_minor": 2
}
